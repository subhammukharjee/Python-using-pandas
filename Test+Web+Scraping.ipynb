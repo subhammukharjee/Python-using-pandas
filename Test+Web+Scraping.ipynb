{
 "cells": [
  {
   "cell_type": "code",
   "execution_count": 1,
   "metadata": {
    "collapsed": false
   },
   "outputs": [
    {
     "name": "stdout",
     "output_type": "stream",
     "text": [
      "Requirement already satisfied (use --upgrade to upgrade): beautifulsoup4 in c:\\users\\admin\\anaconda3\\lib\\site-packages\n"
     ]
    },
    {
     "name": "stderr",
     "output_type": "stream",
     "text": [
      "You are using pip version 8.1.2, however version 9.0.1 is available.\n",
      "You should consider upgrading via the 'python -m pip install --upgrade pip' command.\n"
     ]
    }
   ],
   "source": [
    "! pip install beautifulsoup4"
   ]
  },
  {
   "cell_type": "code",
   "execution_count": 2,
   "metadata": {
    "collapsed": false
   },
   "outputs": [
    {
     "name": "stdout",
     "output_type": "stream",
     "text": [
      "Requirement already satisfied (use --upgrade to upgrade): beautifulsoup4 in c:\\users\\admin\\anaconda3\\lib\\site-packages\n"
     ]
    },
    {
     "name": "stderr",
     "output_type": "stream",
     "text": [
      "You are using pip version 8.1.2, however version 9.0.1 is available.\n",
      "You should consider upgrading via the 'python -m pip install --upgrade pip' command.\n"
     ]
    }
   ],
   "source": [
    "! pip install beautifulsoup4"
   ]
  },
  {
   "cell_type": "code",
   "execution_count": 3,
   "metadata": {
    "collapsed": false
   },
   "outputs": [
    {
     "name": "stdout",
     "output_type": "stream",
     "text": [
      "Collecting urllib3\n",
      "  Downloading urllib3-1.20-py2.py3-none-any.whl (111kB)\n",
      "Installing collected packages: urllib3\n",
      "Successfully installed urllib3-1.20\n"
     ]
    },
    {
     "name": "stderr",
     "output_type": "stream",
     "text": [
      "You are using pip version 8.1.2, however version 9.0.1 is available.\n",
      "You should consider upgrading via the 'python -m pip install --upgrade pip' command.\n"
     ]
    }
   ],
   "source": [
    "! pip install urllib3"
   ]
  },
  {
   "cell_type": "code",
   "execution_count": 4,
   "metadata": {
    "collapsed": true
   },
   "outputs": [],
   "source": [
    "from bs4 import BeautifulSoup"
   ]
  },
  {
   "cell_type": "code",
   "execution_count": 6,
   "metadata": {
    "collapsed": false
   },
   "outputs": [
    {
     "name": "stdout",
     "output_type": "stream",
     "text": [
      "Requirement already satisfied (use --upgrade to upgrade): urllib3 in c:\\users\\admin\\anaconda3\\lib\\site-packages\n"
     ]
    },
    {
     "name": "stderr",
     "output_type": "stream",
     "text": [
      "You are using pip version 8.1.2, however version 9.0.1 is available.\n",
      "You should consider upgrading via the 'python -m pip install --upgrade pip' command.\n"
     ]
    }
   ],
   "source": [
    "! pip install urllib3"
   ]
  },
  {
   "cell_type": "code",
   "execution_count": 8,
   "metadata": {
    "collapsed": false
   },
   "outputs": [
    {
     "name": "stdout",
     "output_type": "stream",
     "text": [
      "Requirement already satisfied (use --upgrade to upgrade): beautifulsoup4 in c:\\users\\admin\\anaconda3\\lib\\site-packages\n"
     ]
    },
    {
     "name": "stderr",
     "output_type": "stream",
     "text": [
      "You are using pip version 8.1.2, however version 9.0.1 is available.\n",
      "You should consider upgrading via the 'python -m pip install --upgrade pip' command.\n"
     ]
    }
   ],
   "source": [
    "! pip install beautifulsoup4"
   ]
  },
  {
   "cell_type": "code",
   "execution_count": 9,
   "metadata": {
    "collapsed": false
   },
   "outputs": [
    {
     "name": "stdout",
     "output_type": "stream",
     "text": [
      "Requirement already satisfied (use --upgrade to upgrade): urllib3 in c:\\users\\admin\\anaconda3\\lib\\site-packages\n"
     ]
    },
    {
     "name": "stderr",
     "output_type": "stream",
     "text": [
      "You are using pip version 8.1.2, however version 9.0.1 is available.\n",
      "You should consider upgrading via the 'python -m pip install --upgrade pip' command.\n"
     ]
    }
   ],
   "source": [
    "! pip install urllib3"
   ]
  },
  {
   "cell_type": "code",
   "execution_count": 13,
   "metadata": {
    "collapsed": false
   },
   "outputs": [],
   "source": [
    "import urllib.request"
   ]
  },
  {
   "cell_type": "code",
   "execution_count": 14,
   "metadata": {
    "collapsed": true
   },
   "outputs": [],
   "source": [
    "r = urllib.request.urlopen('https://www.yelp.com/search?find_desc=Restaurants&find_loc=Houston%2C+TX').read()"
   ]
  },
  {
   "cell_type": "code",
   "execution_count": 17,
   "metadata": {
    "collapsed": false
   },
   "outputs": [
    {
     "data": {
      "text/plain": [
       "bs4.BeautifulSoup"
      ]
     },
     "execution_count": 17,
     "metadata": {},
     "output_type": "execute_result"
    }
   ],
   "source": [
    "soup = BeautifulSoup(r, \"lxml\")\n",
    "type(soup)"
   ]
  },
  {
   "cell_type": "code",
   "execution_count": 18,
   "metadata": {
    "collapsed": false
   },
   "outputs": [
    {
     "data": {
      "text/plain": [
       "299399"
      ]
     },
     "execution_count": 18,
     "metadata": {},
     "output_type": "execute_result"
    }
   ],
   "source": [
    "len(str(soup.prettify()))"
   ]
  },
  {
   "cell_type": "code",
   "execution_count": 19,
   "metadata": {
    "collapsed": true
   },
   "outputs": [],
   "source": [
    "a=str(soup.prettify())"
   ]
  },
  {
   "cell_type": "code",
   "execution_count": 20,
   "metadata": {
    "collapsed": false
   },
   "outputs": [
    {
     "data": {
      "text/plain": [
       "170268"
      ]
     },
     "execution_count": 20,
     "metadata": {},
     "output_type": "execute_result"
    }
   ],
   "source": [
    "a.find('''class=\"snippet\"''')"
   ]
  },
  {
   "cell_type": "code",
   "execution_count": 21,
   "metadata": {
    "collapsed": false
   },
   "outputs": [
    {
     "data": {
      "text/plain": [
       "'      </label>\\n                </li>\\n               </ul>\\n               <ul class=\"column\">\\n                <li>\\n                 <label class=\"feature radio-check\">\\n                  <input name=\"feature\" type=\"checkbox\" value=\"HappyHour\"/>\\n                  <span class=\"filter-label\">\\n                   Happy Hour\\n                  </span>\\n                 </label>\\n                </li>\\n               </ul>\\n              </div>\\n             </div>\\n            </div>\\n            <div class=\"js-toggle-list-item toggle-list-item\">\\n             <h4 class=\"arrange arrange--middle toggle-list-link js-toggle-list-trigger u-space-b1\">\\n              <span class=\"arrange_unit u-cursor-pointer\">\\n               <span class=\"toggle-link-arrow-wrap u-inline-block\">\\n                <span class=\"toggle-link-arrow\" role=\"presentation\">\\n                </span>\\n               </span>\\n              </span>\\n              <span class=\"arrange_unit arrange_unit--fill\">\\n               <span class=\"u-pseudo-link u-decoration-none\">\\n                Meals Served\\n               </span>\\n              </span>\\n             </h4>\\n             <div class=\"js-toggle-list-content toggle-list-content\">\\n              <div class=\"filter-group\">\\n               <ul class=\"column\">\\n                <li>\\n                 <label class=\"feature radio-check\">\\n                  <input name=\"feature\" type=\"checkbox\" value=\"GoodForMeal.breakfast\"/>\\n                  <span class=\"filter-label\">\\n                   Breakfast\\n                  </span>\\n                 </label>\\n                </li>\\n                <li>\\n                 <label class=\"feature radio-check\">\\n                  <input name=\"feature\" type=\"checkbox\" value=\"GoodForMeal.brunch\"/>\\n                  <span class=\"filter-label\">\\n                   Brunch\\n                  </span>\\n                 </label>\\n                </li>\\n                <li>\\n                 <label class=\"feature radio-check\">\\n                  <input name=\"feature\" type=\"checkbox\" value=\"GoodForMeal.lunch\"/>\\n                  <span class=\"filter-label\">\\n                   Lunch\\n                  </span>\\n                 </label>\\n                </li>\\n               </ul>\\n               <ul class=\"column\">\\n                <li>\\n                 <label class=\"feature radio-check\">\\n                  <input name=\"feature\" type=\"checkbox\" value=\"GoodForMeal.dinner\"/>\\n                  <span class=\"filter-label\">\\n                   Dinner\\n                  </span>\\n                 </label>\\n                </li>\\n                <li>\\n                 <label class=\"feature radio-check\">\\n                  <input name=\"feature\" type=\"checkbox\" value=\"GoodForMeal.dessert\"/>\\n                  <span class=\"filter-label\">\\n                   Dessert\\n                  </span>\\n                 </label>\\n                </li>\\n                <li>\\n                 <label class=\"feature radio-check\">\\n                  <input name=\"feature\" type=\"checkbox\" value=\"GoodForMeal.latenight\"/>\\n                  <span class=\"filter-label\">\\n                   Late Night\\n                  </span>\\n                 </label>\\n                </li>\\n               </ul>\\n              </div>\\n             </div>\\n            </div>\\n            <div class=\"js-toggle-list-item toggle-list-item\">\\n             <h4 class=\"arrange arrange--middle toggle-list-link js-toggle-list-trigger u-space-b1\">\\n              <span class=\"arrange_unit u-cursor-pointer\">\\n               <span class=\"toggle-link-arrow-wrap u-inline-block\">\\n                <span class=\"toggle-link-arrow\" role=\"presentation\">\\n                </span>\\n               </span>\\n              </span>\\n              <span class=\"arrange_unit arrange_unit--fill\">\\n               <span class=\"u-pseudo-link u-decoration-none\">\\n                Music\\n               </span>\\n              </span>\\n             </h4>\\n             <div class=\"js-toggle-list-content toggle-list-content\">\\n              <div class=\"filter-group\">\\n               <ul class=\"column\">\\n                <li>\\n                 <label class=\"feature radio-check\">\\n                  <input name=\"feature\" type=\"checkbox\" value=\"Music.dj\"/>\\n                  <span class=\"filter-label\">\\n                   DJ\\n                  </span>\\n                 </label>\\n                </li>\\n                <li>\\n                 <label class=\"feature radio-check\">\\n                  <input name=\"feature\" type=\"checkbox\" value=\"Music.jukebox\"/>\\n                  <span class=\"filter-label\">\\n                   Juke Box\\n                  </span>\\n                 </label>\\n                </li>\\n               </ul>\\n               <ul class=\"column\">\\n                <li>\\n                 <label class=\"feature radio-check\">\\n                  <input name=\"feature\" type=\"checkbox\" value=\"Music.karaoke\"/>\\n                  <span class=\"filter-label\">\\n                   Karaoke\\n                  </span>\\n                 </label>\\n                </li>\\n                <li>\\n                 <label class=\"feature radio-check\">\\n                  <input name=\"feature\" type=\"checkbox\" value=\"Music.live\"/>\\n                  <span class=\"filter-label\">\\n                   Live\\n                  </span>\\n                 </label>\\n                </li>\\n               </ul>\\n              </div>\\n             </div>\\n            </div>\\n            <div class=\"js-toggle-list-item toggle-list-item\">\\n             <h4 class=\"arrange arrange--middle toggle-list-link js-toggle-list-trigger u-space-b1\">\\n              <span class=\"arrange_unit u-cursor-pointer\">\\n               <span class=\"toggle-link-arrow-wrap u-inline-block\">\\n                <span class=\"toggle-link-arrow\" role=\"presentation\">\\n                </span>\\n               </span>\\n              </span>\\n              <span class=\"arrange_unit arrange_unit--fill\">\\n               <span class=\"u-pseudo-link u-decoration-none\">\\n                Parking\\n               </span>\\n              </span>\\n             </h4>\\n             <div class=\"js-toggle-list-content toggle-list-content\">\\n              <div class=\"filter-group\">\\n               <ul class=\"column\">\\n                <li>\\n                 <label class=\"feature radio-check\">\\n                  <input name=\"feature\" type=\"checkbox\" value=\"BusinessParking.street\"/>\\n                  <span class=\"filter-label\">\\n                   Street\\n                  </span>\\n                 </label>\\n                </li>\\n                <li>\\n                 <label class=\"feature radio-check\">\\n                  <input name=\"feature\" type=\"checkbox\" value=\"BusinessParking.garage\"/>\\n                  <span class=\"filter-label\">\\n                   Garage\\n                  </span>\\n                 </label>\\n                </li>\\n                <li>\\n                 <label class=\"feature radio-check\">\\n                  <input name=\"feature\" type=\"checkbox\" value=\"BusinessParking.valet\"/>\\n                  <span class=\"filter-label\">\\n                   Valet\\n                  </span>\\n                 </label>\\n                </li>\\n               </ul>\\n               <ul class=\"column\">\\n                <li>\\n                 <label class=\"feature radio-check\">\\n                  <input name=\"feature\" type=\"checkbox\" value=\"BusinessParking.lot\"/>\\n                  <span class=\"filter-label\">\\n                   Private Lot\\n                  </span>\\n                 </label>\\n                </li>\\n                <li>\\n                 <label class=\"feature radio-check\">\\n                  <input name=\"feature\" type=\"checkbox\" value=\"BusinessParking.validated\"/>\\n                  <span class=\"filter-label\">\\n                   Validated\\n                  </span>\\n                 </label>\\n                </li>\\n               </ul>\\n              </div>\\n             </div>\\n            </div>\\n            <div class=\"js-toggle-list-item toggle-list-item\">\\n             <h4 class=\"arrange arrange--middle toggle-list-link js-toggle-list-trigger u-space-b1\">\\n              <span class=\"arrange_unit u-cursor-pointer\">\\n               <span class=\"toggle-link-arrow-wrap u-inline-block\">\\n                <span class=\"toggle-link-arrow\" role=\"presentation\">\\n                </span>\\n               </span>\\n              </span>\\n              <span class=\"arrange_unit arrange_unit--fill\">\\n               <span class=\"u-pseudo-link u-decoration-none\">\\n                Wi-Fi\\n               </span>\\n              </span>\\n             </h4>\\n             <div class=\"js-toggle-list-content toggle-list-content\">\\n              <div class=\"filter-group\">\\n               <ul class=\"column\">\\n                <li>\\n                 <label class=\"feature radio-check\">\\n                  <input name=\"feature\" type=\"checkbox\" value=\"WiFi.free\"/>\\n                  <span class=\"filter-label\">\\n                   Free\\n                  </span>\\n                 </label>\\n                </li>\\n               </ul>\\n               <ul class=\"column\">\\n                <li>\\n                 <label class=\"feature radio-check\">\\n                  <input name=\"feature\" type=\"checkbox\" value=\"WiFi.paid\"/>\\n                  <span class=\"filter-label\">\\n                   Paid\\n                  </span>\\n                 </label>\\n                </li>\\n               </ul>\\n              </div>\\n             </div>\\n            </div>\\n            <div class=\"js-toggle-list-item toggle-list-item\">\\n             <h4 class=\"arrange arrange--middle toggle-list-link js-toggle-list-trigger u-space-b1\">\\n              <span class=\"arrange_unit u-cursor-pointer\">\\n               <span class=\"toggle-link-arrow-wrap u-inline-block\">\\n                <span class=\"toggle-link-arrow\" role=\"presentation\">\\n                </span>\\n               </span>\\n              </span>\\n              <span class=\"arrange_unit arrange_unit--fill\">\\n               <span class=\"u-pseudo-link u-decoration-none\">\\n                Smoking\\n               </span>\\n              </span>\\n             </h4>\\n             <div class=\"js-toggle-list-content toggle-list-content\">\\n              <div class=\"filter-group\">\\n               <ul class=\"column\">\\n                <li>\\n                 <label class=\"feature radio-check\">\\n                  <input name=\"feature\" type=\"checkbox\" value=\"Smoking.no\"/>\\n                  <span class=\"filter-label\">\\n                   No\\n                  </span>\\n                 </label>\\n                </li>\\n                <li>\\n                 <label class=\"feature radio-check\">\\n                  <input name=\"feature\" type=\"checkbox\" value=\"Smoking.outdoor\"/>\\n                  <span class=\"filter-label\">\\n                   Outdoor Area / Patio Only\\n                  </span>\\n                 </label>\\n                </li>\\n               </ul>\\n               <ul class=\"column\">\\n                <li>\\n                 <label class=\"feature radio-check\">\\n                  <input name=\"feature\" type=\"checkbox\" value=\"Smoking.yes\"/>\\n                  <span class=\"filter-label\">\\n                   Yes\\n                  </span>\\n                 </label>\\n                </li>\\n               </ul>\\n              </div>\\n             </div>\\n            </div>\\n           </ul>\\n          </div>\\n          <div class=\"filter-set category-filters\">\\n           <h4>\\n            Category\\n           </h4>\\n           <ul class=\"main\">\\n            <li>\\n             <label class=\"category radio-check\">\\n              <input name=\"category\" type=\"checkbox\" value=\"mexican\"/>\\n              <span>\\n               Mexican\\n              </span>\\n             </label>\\n            </li>\\n            <li>\\n             <label class=\"category radio-check\">\\n              <input name=\"category\" type=\"checkbox\" value=\"hotdogs\"/>\\n              <span>\\n               Fast Food\\n              </span>\\n             </label>\\n            </li>\\n            <li>\\n             <label class=\"category radio-check\">\\n              <input name=\"category\" type=\"checkbox\" value=\"sandwiches\"/>\\n              <span>\\n               Sandwiches\\n              </span>\\n             </label>\\n            </li>\\n            <li>\\n             <label class=\"category radio-check\">\\n              <input name=\"category\" type=\"checkbox\" value=\"burgers\"/>\\n              <span>\\n               Burgers\\n              </span>\\n             </label>\\n            </li>\\n           </ul>\\n           <a class=\"more-link\" href=\"javascript:;\">\\n            More Categories\\n           </a>\\n           <div class=\"more category-more filter-group arrange arrange--30 arrange--equal\">\\n            <ul class=\"arrange_unit\">\\n             <li>\\n              <label class=\"category radio-check\">\\n               <input name=\"category\" type=\"checkbox\" value=\"restaurants\"/>\\n               <span>\\n                Restaurants\\n               </span>\\n              </label>\\n             </li>\\n             <li>\\n              <label class=\"category radio-check\">\\n               <input name=\"category\" type=\"checkbox\" value=\"mexican\"/>\\n               <span>\\n                Mexican\\n               </span>\\n              </label>\\n             </li>\\n             <li>\\n              <label class=\"category radio-check\">\\n               <input name=\"category\" type=\"checkbox\" value=\"hotdogs\"/>\\n               <span>\\n                Fast Food\\n               </span>\\n              </label>\\n             </li>\\n             <li>\\n              <label class=\"category radio-check\">\\n               <input name=\"category\" type=\"checkbox\" value=\"sandwiches\"/>\\n               <span>\\n                Sandwiches\\n               </span>\\n              </label>\\n             </li>\\n             <li>\\n              <label class=\"category radio-check\">\\n               <input name=\"category\" type=\"checkbox\" value=\"food\"/>\\n               <span>\\n                Food\\n               </span>\\n              </label>\\n             </li>\\n             <li>\\n              <label class=\"category radio-check\">\\n               <input name=\"category\" type=\"checkbox\" value=\"burgers\"/>\\n               <span>\\n                Burgers\\n               </span>\\n              </label>\\n             </li>\\n             <li>\\n              <label class=\"category radio-check\">\\n               <input name=\"category\" type=\"checkbox\" value=\"pizza\"/>\\n               <span>\\n                Pizza\\n               </span>\\n              </label>\\n             </li>\\n             <li>\\n              <label class=\"category radio-check\">\\n               <input name=\"category\" type=\"checkbox\" value=\"tradamerican\"/>\\n               <span>\\n                American (Traditional)\\n               </span>\\n              </label>\\n             </li>\\n             <li>\\n              <label class=\"category radio-check\">\\n               <input name=\"category\" type=\"checkbox\" value=\"nightlife\"/>\\n               <span>\\n                Nightlife\\n               </span>\\n              </label>\\n             </li>\\n             <li>\\n              <label class=\"category radio-check\">\\n               <input name=\"category\" type=\"checkbox\" value=\"chinese\"/>\\n               <span>\\n                Chinese\\n               </span>\\n              </label>\\n             </li>\\n             <li>\\n              <label class=\"category radio-check\">\\n               <input name=\"category\" type=\"checkbox\" value=\"chicken_wings\"/>\\n               <span>\\n                Chicken Wings\\n               </span>\\n              </label>\\n             </li>\\n             <li>\\n              <label class=\"category radio-check\">\\n               <input name=\"category\" type=\"checkbox\" value=\"bars\"/>\\n               <span>\\n                Bars\\n               </span>\\n              </label>\\n             </li>\\n             <li>\\n              <label class=\"category radio-check\">\\n               <input name=\"category\" type=\"checkbox\" value=\"seafood\"/>\\n               <span>\\n                Seafood\\n               </span>\\n              </label>\\n             </li>\\n             <li>\\n              <label class=\"category radio-check\">\\n               <input name=\"category\" type=\"checkbox\" value=\"breakfast_brunch\"/>\\n               <span>\\n                Breakfast &amp; Brunch\\n               </span>\\n              </label>\\n             </li>\\n             <li>\\n              <label class=\"category radio-check\">\\n               <input name=\"category\" type=\"checkbox\" value=\"italian\"/>\\n               <span>\\n                Italian\\n               </span>\\n              </label>\\n             </li>\\n             <li>\\n              <label class=\"category radio-check\">\\n               <input name=\"category\" type=\"checkbox\" value=\"tex-mex\"/>\\n               <span>\\n                Tex-Mex\\n               </span>\\n              </label>\\n             </li>\\n             <li>\\n              <label class=\"category radio-check\">\\n               <input name=\"category\" type=\"checkbox\" value=\"newamerican\"/>\\n               <span>\\n                American (New)\\n               </span>\\n              </label>\\n             </li>\\n             <li>\\n              <label class=\"category radio-check\">\\n               <input name=\"category\" type=\"checkbox\" value=\"delis\"/>\\n               <span>\\n                Delis\\n               </span>\\n              </label>\\n             </li>\\n             <li>\\n              <label class=\"category radio-check\">\\n               <input name=\"category\" type=\"checkbox\" value=\"bbq\"/>\\n               <span>\\n                Barbeque\\n               </span>\\n              </label>\\n             </li>\\n             <li>\\n              <label class=\"category radio-check\">\\n               <input name=\"category\" type=\"checkbox\" value=\"vietnamese\"/>\\n               <span>\\n                Vietnamese\\n               </span>\\n              </label>\\n             </li>\\n             <li>\\n              <label class=\"category radio-check\">\\n               <input name=\"category\" type=\"checkbox\" value=\"foodtrucks\"/>\\n               <span>\\n                Food Trucks\\n               </span>\\n              </label>\\n             </li>\\n             <li>\\n              <label class=\"category radio-check\">\\n               <input name=\"category\" type=\"checkbox\" value=\"cajun\"/>\\n               <span>\\n                Cajun/Creole\\n               </span>\\n              </label>\\n             </li>\\n             <li>\\n              <label class=\"category radio-check\">\\n               <input name=\"category\" type=\"checkbox\" value=\"salad\"/>\\n               <span>\\n                Salad\\n               </span>\\n              </label>\\n             </li>\\n             <li>\\n              <label class=\"category radio-check\">\\n               <input name=\"category\" type=\"checkbox\" value=\"cafes\"/>\\n               <span>\\n                Cafes\\n               </span>\\n              </label>\\n             </li>\\n             <li>\\n              <label class=\"category radio-check\">\\n               <input name=\"category\" type=\"checkbox\" value=\"latin\"/>\\n               <span>\\n                Latin American\\n               </span>\\n              </label>\\n             </li>\\n             <li>\\n              <label class=\"category radio-check\">\\n               <input name=\"category\" type=\"checkbox\" value=\"japanese\"/>\\n               <span>\\n                Japanese\\n               </span>\\n              </label>\\n             </li>\\n             <li>\\n              <label class=\"category radio-check\">\\n               <input name=\"category\" type=\"checkbox\" value=\"sportsbars\"/>\\n               <span>\\n                Sports Bars\\n               </span>\\n              </label>\\n             </li>\\n             <li>\\n              <label class=\"category radio-check\">\\n               <input name=\"category\" type=\"checkbox\" value=\"sushi\"/>\\n               <span>\\n                Sushi Bars\\n               </span>\\n              </label>\\n             </li>\\n             <li>\\n              <label class=\"category radio-check\">\\n               <input name=\"category\" type=\"checkbox\" value=\"bakeries\"/>\\n               <span>\\n                Bakeries\\n               </span>\\n              </label>\\n             </li>\\n             <li>\\n              <label class=\"category radio-check\">\\n               <input name=\"category\" type=\"checkbox\" value=\"soup\"/>\\n               <span>\\n                Soup\\n               </span>\\n              </label>\\n             </li>\\n             <li>\\n              <label class=\"category radio-check\">\\n               <input name=\"category\" type=\"checkbox\" value=\"indpak\"/>\\n               <span>\\n                Indian\\n               </span>\\n              </label>\\n             </li>\\n             <li>\\n              <label class=\"category radio-check\">\\n               <input name=\"category\" type=\"checkbox\" value=\"southern\"/>\\n               <span>\\n                Southern\\n               </span>\\n              </label>\\n             </li>\\n             <li>\\n              <label class=\"category radio-check\">\\n               <input name=\"category\" type=\"checkbox\" value=\"steak\"/>\\n               <span>\\n                Steakhouses\\n               </span>\\n              </label>\\n             </li>\\n             <li>\\n              <label class=\"category radio-check\">\\n               <input name=\"category\" type=\"checkbox\" value=\"mediterranean\"/>\\n               <span>\\n                Mediterranean\\n               </span>\\n              </label>\\n             </li>\\n             <li>\\n              <label class=\"category radio-check\">\\n               <input name=\"category\" type=\"checkbox\" value=\"asianfusion\"/>\\n               <span>\\n                Asian Fusion\\n               </span>\\n              </label>\\n             </li>\\n             <li>\\n              <label class=\"category radio-check\">\\n               <input name=\"category\" type=\"checkbox\" value=\"buffets\"/>\\n               <span>\\n                Buffets\\n               </span>\\n              </label>\\n             </li>\\n             <li>\\n              <label class=\"category radio-check\">\\n               <input name=\"category\" type=\"checkbox\" value=\"diners\"/>\\n               <span>\\n                Diners\\n               </span>\\n              </label>\\n             </li>\\n             <li>\\n              <label class=\"category radio-check\">\\n               <input name=\"category\" type=\"checkbox\" value=\"hotdog\"/>\\n               <span>\\n                Hot Dogs\\n               </span>\\n              </label>\\n             </li>\\n             <li>\\n              <label class=\"category radio-check\">\\n               <input name=\"category\" type=\"checkbox\" value=\"eventservices\"/>\\n               <span>\\n                Event Planning &amp; Services\\n               </span>\\n              </label>\\n             </li>\\n            </ul>\\n            <ul class=\"arrange_unit\">\\n             <li>\\n              <label class=\"category radio-check\">\\n               <input name=\"category\" type=\"checkbox\" value=\"desserts\"/>\\n               <span>\\n                Desserts\\n               </span>\\n              </label>\\n             </li>\\n             <li>\\n              <label class=\"category radio-check\">\\n               <input name=\"category\" type=\"checkbox\" value=\"coffee\"/>\\n               <span>\\n                Coffee &amp; Tea\\n               </span>\\n              </label>\\n             </li>\\n             <li>\\n              <label class=\"category radio-check\">\\n               <input name=\"category\" type=\"checkbox\" value=\"foodstands\"/>\\n               <span>\\n                Food Stands\\n               </span>\\n              </label>\\n             </li>\\n             <li>\\n              <label class=\"category radio-check\">\\n               <input name=\"category\" type=\"checkbox\" value=\"chickenshop\"/>\\n               <span>\\n                Chicken Shop\\n               </span>\\n              </label>\\n             </li>\\n             <li>\\n              <label class=\"category radio-check\">\\n               <input name=\"category\" type=\"checkbox\" value=\"tacos\"/>\\n               <span>\\n                Tacos\\n               </span>\\n              </label>\\n             </li>\\n             <li>\\n              <label class=\"category radio-check\">\\n               <input name=\"category\" type=\"checkbox\" value=\"halal\"/>\\n               <span>\\n                Halal\\n               </span>\\n              </label>\\n             </li>\\n             <li>\\n              <label class=\"category radio-check\">\\n               <input name=\"category\" type=\"checkbox\" value=\"catering\"/>\\n               <span>\\n                Caterers\\n               </span>\\n              </label>\\n             </li>\\n             <li>\\n              <label class=\"category radio-check\">\\n               <input name=\"category\" type=\"checkbox\" value=\"wine_bars\"/>\\n               <span>\\n                Wine Bars\\n               </span>\\n              </label>\\n             </li>\\n             <li>\\n              <label class=\"category radio-check\">\\n               <input name=\"category\" type=\"checkbox\" value=\"thai\"/>\\n               <span>\\n                Thai\\n               </span>\\n              </label>\\n             </li>\\n             <li>\\n              <label class=\"category radio-check\">\\n               <input name=\"category\" type=\"checkbox\" value=\"vegetarian\"/>\\n               <span>\\n                Vegetarian\\n               </span>\\n              </label>\\n             </li>\\n             <li>\\n              <label class=\"category radio-check\">\\n               <input name=\"category\" type=\"checkbox\" value=\"juicebars\"/>\\n               <span>\\n                Juice Bars &amp; Smoothies\\n               </span>\\n              </label>\\n             </li>\\n             <li>\\n              <label class=\"category radio-check\">\\n               <input name=\"category\" type=\"checkbox\" value=\"soulfood\"/>\\n               <span>\\n                Soul Food\\n               </span>\\n              </label>\\n             </li>\\n             <li>\\n              <label class=\"category radio-check\">\\n               <input name=\"category\" type=\"checkbox\" value=\"gourmet\"/>\\n               <span>\\n                Specialty Food\\n               </span>\\n              </label>\\n             </li>\\n             <li>\\n              <label class=\"category radio-check\">\\n               <input name=\"category\" type=\"checkbox\" value=\"gluten_free\"/>\\n               <span>\\n                Gluten-Free\\n               </span>\\n              </label>\\n             </li>\\n             <li>\\n              <label class=\"category radio-check\">\\n               <input name=\"category\" type=\"checkbox\" value=\"mideastern\"/>\\n               <span>\\n                Middle Eastern\\n               </span>\\n              </label>\\n             </li>\\n             <li>\\n              <label class=\"category radio-check\">\\n               <input name=\"category\" type=\"checkbox\" value=\"icecream\"/>\\n               <span>\\n                Ice Cream &amp; Frozen Yogurt\\n               </span>\\n              </label>\\n             </li>\\n             <li>\\n              <label class=\"category radio-check\">\\n               <input name=\"category\" type=\"checkbox\" value=\"salvadoran\"/>\\n               <span>\\n                Salvadoran\\n               </span>\\n              </label>\\n             </li>\\n             <li>\\n              <label class=\"category radio-check\">\\n               <input name=\"category\" type=\"checkbox\" value=\"greek\"/>\\n               <span>\\n                Greek\\n               </span>\\n              </label>\\n             </li>\\n             <li>\\n              <label class=\"category radio-check\">\\n               <input name=\"category\" type=\"checkbox\" value=\"cocktailbars\"/>\\n               <span>\\n                Cocktail Bars\\n               </span>\\n              </label>\\n             </li>\\n             <li>\\n              <label class=\"category radio-check\">\\n               <input name=\"category\" type=\"checkbox\" value=\"caribbean\"/>\\n               <span>\\n                Caribbean\\n               </span>\\n              </label>\\n             </li>\\n             <li>\\n              <label class=\"category radio-check\">\\n               <input name=\"category\" type=\"checkbox\" value=\"pakistani\"/>\\n               <span>\\n                Pakistani\\n               </span>\\n              </label>\\n             </li>\\n             <li>\\n              <label class=\"category radio-check\">\\n               <input name=\"category\" type=\"checkbox\" value=\"noodles\"/>\\n               <span>\\n                Noodles\\n               </span>\\n              </label>\\n             </li>\\n             <li>\\n              <label class=\"category radio-check\">\\n               <input name=\"category\" type=\"checkbox\" value=\"donuts\"/>\\n               <span>\\n                Donuts\\n               </span>\\n              </label>\\n             </li>\\n             <li>\\n              <label class=\"category radio-check\">\\n               <input name=\"category\" type=\"checkbox\" value=\"korean\"/>\\n               <span>\\n                Korean\\n               </span>\\n              </label>\\n             </li>\\n             <li>\\n              <label class=\"category radio-check\">\\n               <input name=\"category\" type=\"checkbox\" value=\"arts\"/>\\n               <span>\\n                Arts &amp; Entertainment\\n               </span>\\n              </label>\\n             </li>\\n             <li>\\n              <label class=\"category radio-check\">\\n               <input name=\"category\" type=\"checkbox\" value=\"french\"/>\\n               <span>\\n                French\\n               </span>\\n              </label>\\n             </li>\\n             <li>\\n              <label class=\"category radio-check\">\\n               <input name=\"category\" type=\"checkbox\" value=\"gastropubs\"/>\\n               <span>\\n                Gastropubs\\n               </span>\\n              </label>\\n             </li>\\n             <li>\\n              <label class=\"category radio-check\">\\n               <input name=\"category\" type=\"checkbox\" value=\"comfortfood\"/>\\n               <span>\\n                Comfort Food\\n               </span>\\n              </label>\\n             </li>\\n             <li>\\n              <label class=\"category radio-check\">\\n               <input name=\"category\" type=\"checkbox\" value=\"lounges\"/>\\n               <span>\\n                Lounges\\n               </span>\\n           '"
      ]
     },
     "execution_count": 21,
     "metadata": {},
     "output_type": "execute_result"
    }
   ],
   "source": [
    "a[115000:145000]"
   ]
  },
  {
   "cell_type": "code",
   "execution_count": 22,
   "metadata": {
    "collapsed": false
   },
   "outputs": [
    {
     "data": {
      "text/plain": [
       "[<span class=\"biz-phone\">\n",
       "         (713) 842-7114\n",
       "     </span>, <span class=\"biz-phone\">\n",
       "         (832) 831-9453\n",
       "     </span>, <span class=\"biz-phone\">\n",
       "         (832) 487-9412\n",
       "     </span>, <span class=\"biz-phone\">\n",
       "         (281) 501-3780\n",
       "     </span>, <span class=\"biz-phone\">\n",
       "         (281) 888-1929\n",
       "     </span>, <span class=\"biz-phone\">\n",
       "         (832) 203-5180\n",
       "     </span>, <span class=\"biz-phone\">\n",
       "         (832) 834-4417\n",
       "     </span>, <span class=\"biz-phone\">\n",
       "         (713) 861-6143\n",
       "     </span>, <span class=\"biz-phone\">\n",
       "         (713) 225-8079\n",
       "     </span>, <span class=\"biz-phone\">\n",
       "         (346) 319-5919\n",
       "     </span>]"
      ]
     },
     "execution_count": 22,
     "metadata": {},
     "output_type": "execute_result"
    }
   ],
   "source": [
    "letters = soup.find_all(\"span\", class_=\"biz-phone\")\n",
    "letters[1:100]"
   ]
  },
  {
   "cell_type": "code",
   "execution_count": null,
   "metadata": {
    "collapsed": true
   },
   "outputs": [],
   "source": []
  }
 ],
 "metadata": {
  "kernelspec": {
   "display_name": "Python [conda root]",
   "language": "python",
   "name": "conda-root-py"
  },
  "language_info": {
   "codemirror_mode": {
    "name": "ipython",
    "version": 3
   },
   "file_extension": ".py",
   "mimetype": "text/x-python",
   "name": "python",
   "nbconvert_exporter": "python",
   "pygments_lexer": "ipython3",
   "version": "3.5.2"
  }
 },
 "nbformat": 4,
 "nbformat_minor": 1
}
