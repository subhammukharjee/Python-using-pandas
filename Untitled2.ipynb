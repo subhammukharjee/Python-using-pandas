{
 "cells": [
  {
   "cell_type": "code",
   "execution_count": 1,
   "metadata": {
    "collapsed": true
   },
   "outputs": [],
   "source": [
    "import os as os"
   ]
  },
  {
   "cell_type": "code",
   "execution_count": 2,
   "metadata": {
    "collapsed": true
   },
   "outputs": [],
   "source": [
    "import pandas as pd"
   ]
  },
  {
   "cell_type": "code",
   "execution_count": 3,
   "metadata": {
    "collapsed": false
   },
   "outputs": [
    {
     "data": {
      "text/plain": [
       "'C:\\\\Users\\\\Admin'"
      ]
     },
     "execution_count": 3,
     "metadata": {},
     "output_type": "execute_result"
    }
   ],
   "source": [
    "os.getcwd()"
   ]
  },
  {
   "cell_type": "code",
   "execution_count": 4,
   "metadata": {
    "collapsed": true
   },
   "outputs": [],
   "source": [
    "os.chdir('F:\\STUDY\\Digital_Vidya\\Data Analytics\\Python-4')"
   ]
  },
  {
   "cell_type": "code",
   "execution_count": 5,
   "metadata": {
    "collapsed": false
   },
   "outputs": [
    {
     "data": {
      "text/plain": [
       "['Links.txt',\n",
       " 'mortDefault.zip',\n",
       " 'mortDefault2000.csv',\n",
       " 'mortDefault2001.csv',\n",
       " 'mortDefault2002.csv',\n",
       " 'mortDefault2003.csv',\n",
       " 'mortDefault2004.csv',\n",
       " 'mortDefault2005.csv',\n",
       " 'mortDefault2006.csv',\n",
       " 'mortDefault2007.csv',\n",
       " 'mortDefault2008.csv',\n",
       " 'mortDefault2009.csv']"
      ]
     },
     "execution_count": 5,
     "metadata": {},
     "output_type": "execute_result"
    }
   ],
   "source": [
    "os.listdir()"
   ]
  },
  {
   "cell_type": "code",
   "execution_count": 25,
   "metadata": {
    "collapsed": true
   },
   "outputs": [],
   "source": [
    "filelist = os.listdir()"
   ]
  },
  {
   "cell_type": "code",
   "execution_count": 26,
   "metadata": {
    "collapsed": true
   },
   "outputs": [],
   "source": [
    "mortDefault = [pd.read_csv(i) for i in filelist]"
   ]
  },
  {
   "cell_type": "code",
   "execution_count": 28,
   "metadata": {
    "collapsed": false
   },
   "outputs": [
    {
     "data": {
      "text/plain": [
       "pandas.core.frame.DataFrame"
      ]
     },
     "execution_count": 28,
     "metadata": {},
     "output_type": "execute_result"
    }
   ],
   "source": [
    "type(mortdefault)"
   ]
  },
  {
   "cell_type": "code",
   "execution_count": 30,
   "metadata": {
    "collapsed": false
   },
   "outputs": [],
   "source": [
    "mort11=pd.concat (mortDefault,ignore_index=True)"
   ]
  },
  {
   "cell_type": "code",
   "execution_count": 31,
   "metadata": {
    "collapsed": false
   },
   "outputs": [
    {
     "name": "stdout",
     "output_type": "stream",
     "text": [
      "<class 'pandas.core.frame.DataFrame'>\n",
      "RangeIndex: 10000002 entries, 0 to 10000001\n",
      "Data columns (total 7 columns):\n",
      "ccDebt                                                                              float64\n",
      "creditScore                                                                         float64\n",
      "default                                                                             float64\n",
      "houseAge                                                                            float64\n",
      "https://nbviewer.jupyter.org/gist/decisionstats/42b3fc90ae6fa537a19a08017e0336cb    object\n",
      "year                                                                                float64\n",
      "yearsEmploy                                                                         float64\n",
      "dtypes: float64(6), object(1)\n",
      "memory usage: 534.1+ MB\n"
     ]
    }
   ],
   "source": [
    "mort11.info()"
   ]
  },
  {
   "cell_type": "code",
   "execution_count": 32,
   "metadata": {
    "collapsed": false
   },
   "outputs": [
    {
     "data": {
      "text/html": [
       "<div>\n",
       "<table border=\"1\" class=\"dataframe\">\n",
       "  <thead>\n",
       "    <tr style=\"text-align: right;\">\n",
       "      <th></th>\n",
       "      <th>ccDebt</th>\n",
       "      <th>creditScore</th>\n",
       "      <th>default</th>\n",
       "      <th>houseAge</th>\n",
       "      <th>https://nbviewer.jupyter.org/gist/decisionstats/42b3fc90ae6fa537a19a08017e0336cb</th>\n",
       "      <th>year</th>\n",
       "      <th>yearsEmploy</th>\n",
       "    </tr>\n",
       "  </thead>\n",
       "  <tbody>\n",
       "    <tr>\n",
       "      <th>0</th>\n",
       "      <td>NaN</td>\n",
       "      <td>NaN</td>\n",
       "      <td>NaN</td>\n",
       "      <td>NaN</td>\n",
       "      <td>http://pandas.pydata.org/pandas-docs/stable/ge...</td>\n",
       "      <td>NaN</td>\n",
       "      <td>NaN</td>\n",
       "    </tr>\n",
       "    <tr>\n",
       "      <th>1</th>\n",
       "      <td>NaN</td>\n",
       "      <td>NaN</td>\n",
       "      <td>NaN</td>\n",
       "      <td>NaN</td>\n",
       "      <td>http://pandas.pydata.org/pandas-docs/stable/me...</td>\n",
       "      <td>NaN</td>\n",
       "      <td>NaN</td>\n",
       "    </tr>\n",
       "    <tr>\n",
       "      <th>2</th>\n",
       "      <td>2818.0</td>\n",
       "      <td>615.0</td>\n",
       "      <td>0.0</td>\n",
       "      <td>10.0</td>\n",
       "      <td>NaN</td>\n",
       "      <td>2000.0</td>\n",
       "      <td>5.0</td>\n",
       "    </tr>\n",
       "    <tr>\n",
       "      <th>3</th>\n",
       "      <td>3575.0</td>\n",
       "      <td>780.0</td>\n",
       "      <td>0.0</td>\n",
       "      <td>34.0</td>\n",
       "      <td>NaN</td>\n",
       "      <td>2000.0</td>\n",
       "      <td>5.0</td>\n",
       "    </tr>\n",
       "    <tr>\n",
       "      <th>4</th>\n",
       "      <td>3184.0</td>\n",
       "      <td>735.0</td>\n",
       "      <td>0.0</td>\n",
       "      <td>12.0</td>\n",
       "      <td>NaN</td>\n",
       "      <td>2000.0</td>\n",
       "      <td>1.0</td>\n",
       "    </tr>\n",
       "  </tbody>\n",
       "</table>\n",
       "</div>"
      ],
      "text/plain": [
       "   ccDebt  creditScore  default  houseAge  \\\n",
       "0     NaN          NaN      NaN       NaN   \n",
       "1     NaN          NaN      NaN       NaN   \n",
       "2  2818.0        615.0      0.0      10.0   \n",
       "3  3575.0        780.0      0.0      34.0   \n",
       "4  3184.0        735.0      0.0      12.0   \n",
       "\n",
       "  https://nbviewer.jupyter.org/gist/decisionstats/42b3fc90ae6fa537a19a08017e0336cb  \\\n",
       "0  http://pandas.pydata.org/pandas-docs/stable/ge...                                 \n",
       "1  http://pandas.pydata.org/pandas-docs/stable/me...                                 \n",
       "2                                                NaN                                 \n",
       "3                                                NaN                                 \n",
       "4                                                NaN                                 \n",
       "\n",
       "     year  yearsEmploy  \n",
       "0     NaN          NaN  \n",
       "1     NaN          NaN  \n",
       "2  2000.0          5.0  \n",
       "3  2000.0          5.0  \n",
       "4  2000.0          1.0  "
      ]
     },
     "execution_count": 32,
     "metadata": {},
     "output_type": "execute_result"
    }
   ],
   "source": [
    "mort11.head()"
   ]
  },
  {
   "cell_type": "code",
   "execution_count": null,
   "metadata": {
    "collapsed": true
   },
   "outputs": [],
   "source": []
  }
 ],
 "metadata": {
  "kernelspec": {
   "display_name": "Python [conda root]",
   "language": "python",
   "name": "conda-root-py"
  },
  "language_info": {
   "codemirror_mode": {
    "name": "ipython",
    "version": 3
   },
   "file_extension": ".py",
   "mimetype": "text/x-python",
   "name": "python",
   "nbconvert_exporter": "python",
   "pygments_lexer": "ipython3",
   "version": "3.5.2"
  }
 },
 "nbformat": 4,
 "nbformat_minor": 1
}
