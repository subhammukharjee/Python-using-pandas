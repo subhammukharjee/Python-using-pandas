{
 "cells": [
  {
   "cell_type": "code",
   "execution_count": 16,
   "metadata": {
    "collapsed": true
   },
   "outputs": [],
   "source": [
    "import os\n",
    "import glob"
   ]
  },
  {
   "cell_type": "code",
   "execution_count": 17,
   "metadata": {
    "collapsed": false
   },
   "outputs": [
    {
     "data": {
      "text/plain": [
       "'F:\\\\STUDY\\\\Digital_Vidya\\\\Data Analytics\\\\Python-1'"
      ]
     },
     "execution_count": 17,
     "metadata": {},
     "output_type": "execute_result"
    }
   ],
   "source": [
    "os.getcwd()"
   ]
  },
  {
   "cell_type": "code",
   "execution_count": 18,
   "metadata": {
    "collapsed": true
   },
   "outputs": [],
   "source": [
    "path = 'F:\\STUDY\\Digital_Vidya\\Data Analytics\\Data\\AirOnTimeCSV'"
   ]
  },
  {
   "cell_type": "code",
   "execution_count": 19,
   "metadata": {
    "collapsed": false
   },
   "outputs": [],
   "source": [
    "extension = 'csv'\n",
    "os.chdir(path)"
   ]
  },
  {
   "cell_type": "code",
   "execution_count": 20,
   "metadata": {
    "collapsed": false
   },
   "outputs": [
    {
     "name": "stdout",
     "output_type": "stream",
     "text": [
      "['airOT198710.csv', 'airOT198711.csv', 'airOT198712.csv', 'airOT198801.csv', 'airOT198802.csv', 'airOT198803.csv', 'airOT198804.csv', 'airOT198805.csv', 'airOT198806.csv', 'airOT198807.csv', 'airOT198808.csv', 'airOT198809.csv', 'airOT198810.csv', 'airOT198811.csv', 'airOT198812.csv', 'airOT198901.csv', 'airOT198902.csv', 'airOT198903.csv', 'airOT198904.csv', 'airOT198905.csv', 'airOT198906.csv', 'airOT198907.csv', 'airOT198908.csv', 'airOT198909.csv', 'airOT198910.csv', 'airOT198911.csv', 'airOT198912.csv', 'airOT199001.csv', 'airOT199002.csv', 'airOT199003.csv', 'airOT199004.csv', 'airOT199005.csv', 'airOT199006.csv', 'airOT199007.csv', 'airOT199008.csv', 'airOT199009.csv', 'airOT199010.csv', 'airOT199011.csv', 'airOT199012.csv', 'airOT199101.csv', 'airOT199102.csv', 'airOT199103.csv', 'airOT199104.csv', 'airOT199105.csv', 'airOT199106.csv', 'airOT199107.csv', 'airOT199108.csv', 'airOT199109.csv', 'airOT199110.csv', 'airOT199111.csv', 'airOT199112.csv', 'airOT199201.csv', 'airOT199202.csv', 'airOT199203.csv', 'airOT199204.csv', 'airOT199205.csv', 'airOT199206.csv', 'airOT199207.csv', 'airOT199208.csv', 'airOT199209.csv', 'airOT199210.csv', 'airOT199211.csv', 'airOT199212.csv', 'airOT199301.csv', 'airOT199302.csv', 'airOT199303.csv', 'airOT199304.csv', 'airOT199305.csv', 'airOT199306.csv', 'airOT199307.csv', 'airOT199308.csv', 'airOT199309.csv', 'airOT199310.csv', 'airOT199311.csv', 'airOT199312.csv', 'airOT199401.csv', 'airOT199402.csv', 'airOT199403.csv', 'airOT199404.csv', 'airOT199405.csv', 'airOT199406.csv', 'airOT199407.csv', 'airOT199408.csv', 'airOT199409.csv', 'airOT199410.csv', 'airOT199411.csv', 'airOT199412.csv', 'airOT199501.csv', 'airOT199502.csv', 'airOT199503.csv', 'airOT199504.csv', 'airOT199505.csv', 'airOT199506.csv', 'airOT199507.csv', 'airOT199508.csv', 'airOT199509.csv', 'airOT199510.csv', 'airOT199511.csv', 'airOT199512.csv', 'airOT199601.csv', 'airOT199602.csv', 'airOT199603.csv', 'airOT199604.csv', 'airOT199605.csv', 'airOT199606.csv', 'airOT199607.csv', 'airOT199608.csv', 'airOT199609.csv', 'airOT199610.csv', 'airOT199611.csv', 'airOT199612.csv', 'airOT199701.csv', 'airOT199702.csv', 'airOT199703.csv', 'airOT199704.csv', 'airOT199705.csv', 'airOT199706.csv', 'airOT199707.csv', 'airOT199708.csv', 'airOT199709.csv', 'airOT199710.csv', 'airOT199711.csv', 'airOT199712.csv', 'airOT199801.csv', 'airOT199802.csv', 'airOT199803.csv', 'airOT199804.csv', 'airOT199805.csv', 'airOT199806.csv', 'airOT199807.csv', 'airOT199808.csv', 'airOT199809.csv', 'airOT199810.csv', 'airOT199811.csv', 'airOT199812.csv', 'airOT199901.csv', 'airOT199902.csv', 'airOT199903.csv', 'airOT199904.csv', 'airOT199905.csv', 'airOT199906.csv', 'airOT199907.csv', 'airOT199908.csv', 'airOT199909.csv', 'airOT199910.csv', 'airOT199911.csv', 'airOT199912.csv', 'airOT200001.csv', 'airOT200002.csv', 'airOT200003.csv', 'airOT200004.csv', 'airOT200005.csv', 'airOT200006.csv', 'airOT200007.csv', 'airOT200008.csv', 'airOT200009.csv', 'airOT200010.csv', 'airOT200011.csv', 'airOT200012.csv', 'airOT200101.csv', 'airOT200102.csv', 'airOT200103.csv', 'airOT200104.csv', 'airOT200105.csv', 'airOT200106.csv', 'airOT200107.csv', 'airOT200108.csv', 'airOT200109.csv', 'airOT200110.csv', 'airOT200111.csv', 'airOT200112.csv', 'airOT200201.csv', 'airOT200202.csv', 'airOT200203.csv', 'airOT200204.csv', 'airOT200205.csv', 'airOT200206.csv', 'airOT200207.csv', 'airOT200208.csv', 'airOT200209.csv', 'airOT200210.csv', 'airOT200211.csv', 'airOT200212.csv', 'airOT200301.csv', 'airOT200302.csv', 'airOT200303.csv', 'airOT200304.csv', 'airOT200305.csv', 'airOT200306.csv', 'airOT200307.csv', 'airOT200308.csv', 'airOT200309.csv', 'airOT200310.csv', 'airOT200311.csv', 'airOT200312.csv', 'airOT200401.csv', 'airOT200402.csv', 'airOT200403.csv', 'airOT200404.csv', 'airOT200405.csv', 'airOT200406.csv', 'airOT200407.csv', 'airOT200408.csv', 'airOT200409.csv', 'airOT200410.csv', 'airOT200411.csv', 'airOT200412.csv', 'airOT200501.csv', 'airOT200502.csv', 'airOT200503.csv', 'airOT200504.csv', 'airOT200505.csv', 'airOT200506.csv', 'airOT200507.csv', 'airOT200508.csv', 'airOT200509.csv', 'airOT200510.csv', 'airOT200511.csv', 'airOT200512.csv', 'airOT200601.csv', 'airOT200602.csv', 'airOT200603.csv', 'airOT200604.csv', 'airOT200605.csv', 'airOT200606.csv', 'airOT200607.csv', 'airOT200608.csv', 'airOT200609.csv', 'airOT200610.csv', 'airOT200611.csv', 'airOT200612.csv', 'airOT200701.csv', 'airOT200702.csv', 'airOT200703.csv', 'airOT200704.csv', 'airOT200705.csv', 'airOT200706.csv', 'airOT200707.csv', 'airOT200708.csv', 'airOT200709.csv', 'airOT200710.csv', 'airOT200711.csv', 'airOT200712.csv', 'airOT200801.csv', 'airOT200802.csv', 'airOT200803.csv', 'airOT200804.csv', 'airOT200805.csv', 'airOT200806.csv', 'airOT200807.csv', 'airOT200808.csv', 'airOT200809.csv', 'airOT200810.csv', 'airOT200811.csv', 'airOT200812.csv', 'airOT200901.csv', 'airOT200902.csv', 'airOT200903.csv', 'airOT200904.csv', 'airOT200905.csv', 'airOT200906.csv', 'airOT200907.csv', 'airOT200908.csv', 'airOT200909.csv', 'airOT200910.csv', 'airOT200911.csv', 'airOT200912.csv', 'airOT201001.csv', 'airOT201002.csv', 'airOT201003.csv', 'airOT201004.csv', 'airOT201005.csv', 'airOT201006.csv', 'airOT201007.csv', 'airOT201008.csv', 'airOT201009.csv', 'airOT201010.csv', 'airOT201011.csv', 'airOT201012.csv', 'airOT201101.csv', 'airOT201102.csv', 'airOT201103.csv', 'airOT201104.csv', 'airOT201105.csv', 'airOT201106.csv', 'airOT201107.csv', 'airOT201108.csv', 'airOT201109.csv', 'airOT201110.csv', 'airOT201111.csv', 'airOT201112.csv', 'airOT201201.csv', 'airOT201202.csv', 'airOT201203.csv', 'airOT201204.csv', 'airOT201205.csv', 'airOT201206.csv', 'airOT201207.csv', 'airOT201208.csv', 'airOT201209.csv', 'airOT201210.csv', 'airOT201211.csv', 'airOT201212.csv']\n"
     ]
    }
   ],
   "source": [
    "result = [i for i in glob.glob('*.{}'.format(extension))]\n",
    "print(result)"
   ]
  },
  {
   "cell_type": "code",
   "execution_count": null,
   "metadata": {
    "collapsed": true
   },
   "outputs": [],
   "source": []
  }
 ],
 "metadata": {
  "anaconda-cloud": {},
  "kernelspec": {
   "display_name": "Python [default]",
   "language": "python",
   "name": "python3"
  },
  "language_info": {
   "codemirror_mode": {
    "name": "ipython",
    "version": 3
   },
   "file_extension": ".py",
   "mimetype": "text/x-python",
   "name": "python",
   "nbconvert_exporter": "python",
   "pygments_lexer": "ipython3",
   "version": "3.5.2"
  }
 },
 "nbformat": 4,
 "nbformat_minor": 1
}
